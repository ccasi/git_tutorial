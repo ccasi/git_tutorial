{
  "nbformat": 4,
  "nbformat_minor": 0,
  "metadata": {
    "colab": {
      "name": "FFT_git_test.ipynb",
      "provenance": [],
      "authorship_tag": "ABX9TyMyQovjrNVJoDh7LylZV0Vn",
      "include_colab_link": true
    },
    "kernelspec": {
      "name": "python3",
      "display_name": "Python 3"
    }
  },
  "cells": [
    {
      "cell_type": "markdown",
      "metadata": {
        "id": "view-in-github",
        "colab_type": "text"
      },
      "source": [
        "<a href=\"https://colab.research.google.com/github/ccasi/exec_git/blob/main/FFT_git_test.ipynb\" target=\"_parent\"><img src=\"https://colab.research.google.com/assets/colab-badge.svg\" alt=\"Open In Colab\"/></a>"
      ]
    },
    {
      "cell_type": "code",
      "metadata": {
        "id": "xTYl9XQIv9VG"
      },
      "source": [
        "!git clone https://github.com/ccasi/image_processing.git"
      ],
      "execution_count": null,
      "outputs": []
    },
    {
      "cell_type": "code",
      "metadata": {
        "id": "7EM0t4pHvnh0"
      },
      "source": [
        "import numpy as np\r\n",
        " from scipy import fftpack\r\n",
        " from matplotlib import pyplot as plt\r\n",
        "\r\n",
        " #신호를 생성합니다.\r\n",
        " # Seed the random number generator\r\n",
        " np.random.seed(1234)\r\n",
        "\r\n",
        " time_step = 0.02\r\n",
        " period = 5.\r\n",
        "\r\n",
        " time_vec = np.arange(0, 20, time_step)\r\n",
        " sig = (np.sin(2 * np.pi / period * time_vec) + 0.5 * np.random.randn(time_vec.size))\r\n",
        "\r\n",
        " plt.figure(figsize=(6, 5))\r\n",
        " plt.plot(time_vec, sig, label='Original signal')\r\n",
        "\r\n",
        " #FFT의 Power를 계산합니다.\r\n",
        " # The FFT of the signal\r\n",
        " sig_fft = fftpack.fft(sig)\r\n",
        "\r\n",
        " # And the power (sig_fft is of complex dtype)\r\n",
        " power = np.abs(sig_fft)\r\n",
        "\r\n",
        " # The corresponding frequencies\r\n",
        " sample_freq = fftpack.fftfreq(sig.size, d=time_step)\r\n",
        "\r\n",
        " # Plot the FFT power\r\n",
        " plt.figure(figsize=(6, 5))\r\n",
        " plt.plot(sample_freq, power)\r\n",
        " plt.xlabel('Frequency [Hz]')\r\n",
        " plt.ylabel('plower')\r\n",
        "\r\n",
        " # Find the peak frequency: we can focus on only the positive frequencies\r\n",
        " pos_mask = np.where(sample_freq > 0)\r\n",
        " freqs = sample_freq[pos_mask]\r\n",
        " peak_freq = freqs[power[pos_mask].argmax()]\r\n",
        "\r\n",
        " # Check that it does indeed correspond to the frequency that we generate\r\n",
        " # the signal with\r\n",
        " np.allclose(peak_freq, 1./period)\r\n",
        "\r\n",
        " # An inner plot to show the peak frequency\r\n",
        " axes = plt.axes([0.55, 0.3, 0.3, 0.5])\r\n",
        " plt.title('Peak frequency')\r\n",
        " plt.plot(freqs[:8], power[:8])\r\n",
        " plt.setp(axes, yticks=[])\r\n",
        " # scipy.signal.find_peaks_cwt can also be used for more advanced  peak detection\r\n",
        "\r\n",
        "\r\n",
        " #모든 high frequencies를 제거합니다.\r\n",
        " high_freq_fft = sig_fft.copy()\r\n",
        " high_freq_fft[np.abs(sample_freq) > peak_freq] = 0\r\n",
        " filtered_sig = fftpack.ifft(high_freq_fft)\r\n",
        "\r\n",
        " plt.figure(figsize=(6, 5))\r\n",
        " plt.plot(time_vec, sig, label='Original signal')\r\n",
        " plt.plot(time_vec, filtered_sig, linewidth=3, label='Filtered signal')\r\n",
        " plt.xlabel('Time [s]')\r\n",
        " plt.ylabel('Amplitude')\r\n",
        "\r\n",
        " plt.legend(loc='best')\r\n",
        "\r\n",
        " plt.show()"
      ],
      "execution_count": null,
      "outputs": []
    }
  ]
}