{
  "nbformat": 4,
  "nbformat_minor": 0,
  "metadata": {
    "colab": {
      "name": "symboic_math1.ipynb",
      "provenance": [],
      "collapsed_sections": [],
      "toc_visible": true,
      "authorship_tag": "ABX9TyPh8GIk7PVaHHd1etn6QqVc",
      "include_colab_link": true
    },
    "kernelspec": {
      "name": "python3",
      "display_name": "Python 3"
    }
  },
  "cells": [
    {
      "cell_type": "markdown",
      "metadata": {
        "id": "view-in-github",
        "colab_type": "text"
      },
      "source": [
        "<a href=\"https://colab.research.google.com/github/ccasi/exec_git/blob/main/symboic_math1.ipynb\" target=\"_parent\"><img src=\"https://colab.research.google.com/assets/colab-badge.svg\" alt=\"Open In Colab\"/></a>"
      ]
    },
    {
      "cell_type": "code",
      "metadata": {
        "id": "hfDaX09k6AEl"
      },
      "source": [
        "def factorial(x):\r\n",
        "    return 1 if x==0 else x * factorial(x - 1)"
      ],
      "execution_count": null,
      "outputs": []
    },
    {
      "cell_type": "markdown",
      "metadata": {
        "id": "3HQM9iyqP9pC"
      },
      "source": [
        "# 새 섹션"
      ]
    },
    {
      "cell_type": "code",
      "metadata": {
        "id": "6xsi44KJ7hRg"
      },
      "source": [
        "from __future__ import division\r\n",
        "from sympy import Function, Symbol, init_printing\r\n",
        "init_printing()\r\n",
        "\r\n",
        "%matplotlib inline"
      ],
      "execution_count": null,
      "outputs": []
    },
    {
      "cell_type": "code",
      "metadata": {
        "id": "3kA9XDtA67jB",
        "colab": {
          "base_uri": "https://localhost:8080/",
          "height": 208
        },
        "outputId": "901015fc-0ac9-429a-e71b-1738b2ee42d2"
      },
      "source": [
        "x, y, z, t = symbols('x, y, z, t')\r\n",
        "a, b, c, r = symbols('a, b, c, r', constant=True)\r\n",
        "f, g, h = symbols('f, g, h', cls=Function)"
      ],
      "execution_count": null,
      "outputs": [
        {
          "output_type": "error",
          "ename": "NameError",
          "evalue": "ignored",
          "traceback": [
            "\u001b[0;31m---------------------------------------------------------------------------\u001b[0m",
            "\u001b[0;31mNameError\u001b[0m                                 Traceback (most recent call last)",
            "\u001b[0;32m<ipython-input-22-d0a88766ff67>\u001b[0m in \u001b[0;36m<module>\u001b[0;34m()\u001b[0m\n\u001b[0;32m----> 1\u001b[0;31m \u001b[0mx\u001b[0m\u001b[0;34m,\u001b[0m \u001b[0my\u001b[0m\u001b[0;34m,\u001b[0m \u001b[0mz\u001b[0m\u001b[0;34m,\u001b[0m \u001b[0mt\u001b[0m \u001b[0;34m=\u001b[0m \u001b[0msymbols\u001b[0m\u001b[0;34m(\u001b[0m\u001b[0;34m'x, y, z, t'\u001b[0m\u001b[0;34m)\u001b[0m\u001b[0;34m\u001b[0m\u001b[0;34m\u001b[0m\u001b[0m\n\u001b[0m\u001b[1;32m      2\u001b[0m \u001b[0ma\u001b[0m\u001b[0;34m,\u001b[0m \u001b[0mb\u001b[0m\u001b[0;34m,\u001b[0m \u001b[0mc\u001b[0m\u001b[0;34m,\u001b[0m \u001b[0mr\u001b[0m \u001b[0;34m=\u001b[0m \u001b[0msymbols\u001b[0m\u001b[0;34m(\u001b[0m\u001b[0;34m'a, b, c, r'\u001b[0m\u001b[0;34m,\u001b[0m \u001b[0mconstant\u001b[0m\u001b[0;34m=\u001b[0m\u001b[0;32mTrue\u001b[0m\u001b[0;34m)\u001b[0m\u001b[0;34m\u001b[0m\u001b[0;34m\u001b[0m\u001b[0m\n\u001b[1;32m      3\u001b[0m \u001b[0mf\u001b[0m\u001b[0;34m,\u001b[0m \u001b[0mg\u001b[0m\u001b[0;34m,\u001b[0m \u001b[0mh\u001b[0m \u001b[0;34m=\u001b[0m \u001b[0msymbols\u001b[0m\u001b[0;34m(\u001b[0m\u001b[0;34m'f, g, h'\u001b[0m\u001b[0;34m,\u001b[0m \u001b[0mcls\u001b[0m\u001b[0;34m=\u001b[0m\u001b[0mFunction\u001b[0m\u001b[0;34m)\u001b[0m\u001b[0;34m\u001b[0m\u001b[0;34m\u001b[0m\u001b[0m\n",
            "\u001b[0;31mNameError\u001b[0m: name 'symbols' is not defined"
          ]
        }
      ]
    },
    {
      "cell_type": "code",
      "metadata": {
        "colab": {
          "base_uri": "https://localhost:8080/",
          "height": 38
        },
        "id": "S3hcfawXI3Td",
        "outputId": "7d64bfa7-fa2a-42e8-ad6c-ef9015c8236c"
      },
      "source": [
        "integrate(3*x**2,x)"
      ],
      "execution_count": null,
      "outputs": [
        {
          "output_type": "execute_result",
          "data": {
            "image/png": "[encoded data removed]",
            "text/latex": "$$x^{3}$$",
            "text/plain": [
              " 3\n",
              "x "
            ]
          },
          "metadata": {
            "tags": []
          },
          "execution_count": 14
        }
      ]
    },
    {
      "cell_type": "code",
      "metadata": {
        "colab": {
          "base_uri": "https://localhost:8080/",
          "height": 38
        },
        "id": "_-nsa0GIJiRv",
        "outputId": "a4adfd46-6832-4872-fd74-200ce17cfa1e"
      },
      "source": [
        "integrate(1/x, x)"
      ],
      "execution_count": null,
      "outputs": [
        {
          "output_type": "execute_result",
          "data": {
            "image/png": "[encoded data removed]",
            "text/latex": "$$\\log{\\left (x \\right )}$$",
            "text/plain": [
              "log(x)"
            ]
          },
          "metadata": {
            "tags": []
          },
          "execution_count": 15
        }
      ]
    },
    {
      "cell_type": "code",
      "metadata": {
        "colab": {
          "base_uri": "https://localhost:8080/",
          "height": 68
        },
        "id": "8uFfpFhTJ1k-",
        "outputId": "4dc9adee-6e13-4d0c-ae99-eef6d0abaa3e"
      },
      "source": [
        "integrate(x**r, x)"
      ],
      "execution_count": null,
      "outputs": [
        {
          "output_type": "execute_result",
          "data": {
            "text/latex": "$$\\begin{cases} \\log{\\left (x \\right )} & \\text{for}\\: r = -1 \\\\\\frac{x^{r + 1}}{r + 1} & \\text{otherwise} \\end{cases}$$",
            "text/plain": [
              "⎧log(x)  for r = -1\n",
              "⎪                  \n",
              "⎪ r + 1            \n",
              "⎨x                 \n",
              "⎪──────  otherwise \n",
              "⎪r + 1             \n",
              "⎩                  "
            ]
          },
          "metadata": {
            "tags": []
          },
          "execution_count": 16
        }
      ]
    },
    {
      "cell_type": "code",
      "metadata": {
        "colab": {
          "base_uri": "https://localhost:8080/",
          "height": 57
        },
        "id": "836dsckxK-2H",
        "outputId": "542694bc-5611-40a0-b205-996d60cc37a3"
      },
      "source": [
        "expand_complex(log(x))"
      ],
      "execution_count": null,
      "outputs": [
        {
          "output_type": "execute_result",
          "data": {
            "image/png": "[encoded data removed]",
            "text/latex": "$$\\log{\\left (\\sqrt{\\left(\\Re{\\left(x\\right)}\\right)^{2} + \\left(\\Im{x}\\right)^{2}} \\right )} + i \\arg{\\left (\\Re{\\left(x\\right)} + i \\Im{x} \\right )}$$",
            "text/plain": [
              "   ⎛   _________________⎞                         \n",
              "   ⎜  ╱   2        2    ⎟                         \n",
              "log⎝╲╱  re (x) + im (x) ⎠ + ⅈ⋅arg(re(x) + ⅈ⋅im(x))"
            ]
          },
          "metadata": {
            "tags": []
          },
          "execution_count": 17
        }
      ]
    },
    {
      "cell_type": "code",
      "metadata": {
        "colab": {
          "base_uri": "https://localhost:8080/",
          "height": 57
        },
        "id": "3TYPrWBPLQnP",
        "outputId": "336eef04-d6f8-4dfe-8a47-4672618c5d14"
      },
      "source": [
        "im(_)"
      ],
      "execution_count": null,
      "outputs": [
        {
          "output_type": "execute_result",
          "data": {
            "image/png": "[encoded data removed]",
            "text/latex": "$$\\arg{\\left (\\Re{\\left(x\\right)} + i \\Im{x} \\right )} + \\arg{\\left (\\sqrt{\\left(\\Re{\\left(x\\right)}\\right)^{2} + \\left(\\Im{x}\\right)^{2}} \\right )}$$",
            "text/plain": [
              "                          ⎛   _________________⎞\n",
              "                          ⎜  ╱   2        2    ⎟\n",
              "arg(re(x) + ⅈ⋅im(x)) + arg⎝╲╱  re (x) + im (x) ⎠"
            ]
          },
          "metadata": {
            "tags": []
          },
          "execution_count": 24
        }
      ]
    },
    {
      "cell_type": "code",
      "metadata": {
        "colab": {
          "base_uri": "https://localhost:8080/",
          "height": 38
        },
        "id": "5KLU9RRDMRyK",
        "outputId": "174706d8-d2a7-49b9-c88c-d5c4d46d48be"
      },
      "source": [
        "integrate(c*f(x) + c*g(x),x)"
      ],
      "execution_count": null,
      "outputs": [
        {
          "output_type": "execute_result",
          "data": {
            "image/png": "[encoded data removed]",
            "text/latex": "$$c \\left(\\int f{\\left (x \\right )}\\, dx + \\int g{\\left (x \\right )}\\, dx\\right)$$",
            "text/plain": [
              "  ⎛⌠           ⌠        ⎞\n",
              "c⋅⎜⎮ f(x) dx + ⎮ g(x) dx⎟\n",
              "  ⎝⌡           ⌡        ⎠"
            ]
          },
          "metadata": {
            "tags": []
          },
          "execution_count": 25
        }
      ]
    },
    {
      "cell_type": "code",
      "metadata": {
        "colab": {
          "base_uri": "https://localhost:8080/",
          "height": 40
        },
        "id": "tyAGkpYzMnX5",
        "outputId": "c2da691e-876b-4951-fe68-da2e9cc4b5cc"
      },
      "source": [
        "integrate(x*log(x), x)"
      ],
      "execution_count": null,
      "outputs": [
        {
          "output_type": "execute_result",
          "data": {
            "image/png": "[encoded data removed]",
            "text/latex": "$$\\frac{x^{2}}{2} \\log{\\left (x \\right )} - \\frac{x^{2}}{4}$$",
            "text/plain": [
              " 2           2\n",
              "x ⋅log(x)   x \n",
              "───────── - ──\n",
              "    2       4 "
            ]
          },
          "metadata": {
            "tags": []
          },
          "execution_count": 26
        }
      ]
    },
    {
      "cell_type": "code",
      "metadata": {
        "colab": {
          "base_uri": "https://localhost:8080/",
          "height": 38
        },
        "id": "Q1jgsq7kMzw6",
        "outputId": "c77b0557-f459-4e55-9f59-71994c73bd1b"
      },
      "source": [
        "integrate(x**2, (x,1,2))"
      ],
      "execution_count": null,
      "outputs": [
        {
          "output_type": "execute_result",
          "data": {
            "image/png": "[encoded data removed]",
            "text/latex": "$$\\frac{7}{3}$$",
            "text/plain": [
              "7/3"
            ]
          },
          "metadata": {
            "tags": []
          },
          "execution_count": 28
        }
      ]
    },
    {
      "cell_type": "code",
      "metadata": {
        "colab": {
          "base_uri": "https://localhost:8080/",
          "height": 37
        },
        "id": "CBriorAtNAuL",
        "outputId": "d4d765dd-cba2-41aa-9eba-5b2be6202b9d"
      },
      "source": [
        "integrate(t/(1+t), (t,0,1))"
      ],
      "execution_count": null,
      "outputs": [
        {
          "output_type": "execute_result",
          "data": {
            "image/png": "[encoded data removed]",
            "text/latex": "$$- \\log{\\left (2 \\right )} + 1$$",
            "text/plain": [
              "-log(2) + 1"
            ]
          },
          "metadata": {
            "tags": []
          },
          "execution_count": 29
        }
      ]
    },
    {
      "cell_type": "code",
      "metadata": {
        "colab": {
          "base_uri": "https://localhost:8080/",
          "height": 38
        },
        "id": "xfgWEL7tNdRp",
        "outputId": "0e8a5587-061e-4945-9678-2ffa9b101691"
      },
      "source": [
        "f(t)"
      ],
      "execution_count": null,
      "outputs": [
        {
          "output_type": "execute_result",
          "data": {
            "image/png": "[encoded data removed]",
            "text/latex": "$$f{\\left (t \\right )}$$",
            "text/plain": [
              "f(t)"
            ]
          },
          "metadata": {
            "tags": []
          },
          "execution_count": 31
        }
      ]
    },
    {
      "cell_type": "code",
      "metadata": {
        "colab": {
          "base_uri": "https://localhost:8080/",
          "height": 38
        },
        "id": "AL5m9mHkNh2r",
        "outputId": "d6c3c2fa-4e4d-4c12-b960-e4bde2050cda"
      },
      "source": [
        "Fx=integrate( f(t),(t,a,x))\r\n",
        "Fx"
      ],
      "execution_count": null,
      "outputs": [
        {
          "output_type": "execute_result",
          "data": {
            "image/png": "[encoded data removed]",
            "text/latex": "$$\\int_{a}^{x} f{\\left (t \\right )}\\, dt$$",
            "text/plain": [
              "x        \n",
              "⌠        \n",
              "⎮ f(t) dt\n",
              "⌡        \n",
              "a        "
            ]
          },
          "metadata": {
            "tags": []
          },
          "execution_count": 34
        }
      ]
    },
    {
      "cell_type": "code",
      "metadata": {
        "colab": {
          "base_uri": "https://localhost:8080/",
          "height": 38
        },
        "id": "8JE8XkWFNu00",
        "outputId": "5f521312-e19e-49b9-9a9a-814918543846"
      },
      "source": [
        "diff(Fx, x)"
      ],
      "execution_count": null,
      "outputs": [
        {
          "output_type": "execute_result",
          "data": {
            "image/png": "[encoded data removed]",
            "text/latex": "$$f{\\left (x \\right )} + \\int_{a}^{x} 0\\, dt$$",
            "text/plain": [
              "       x     \n",
              "       ⌠     \n",
              "f(x) + ⎮ 0 dt\n",
              "       ⌡     \n",
              "       a     "
            ]
          },
          "metadata": {
            "tags": []
          },
          "execution_count": 35
        }
      ]
    },
    {
      "cell_type": "code",
      "metadata": {
        "colab": {
          "base_uri": "https://localhost:8080/",
          "height": 38
        },
        "id": "TGUTgUAQOB5C",
        "outputId": "a2fc7e50-6cb4-4f03-ab68-4d29f75559eb"
      },
      "source": [
        "_.doit()"
      ],
      "execution_count": null,
      "outputs": [
        {
          "output_type": "execute_result",
          "data": {
            "image/png": "[encoded data removed]",
            "text/latex": "$$f{\\left (x \\right )}$$",
            "text/plain": [
              "f(x)"
            ]
          },
          "metadata": {
            "tags": []
          },
          "execution_count": 36
        }
      ]
    },
    {
      "cell_type": "code",
      "metadata": {
        "colab": {
          "base_uri": "https://localhost:8080/",
          "height": 405
        },
        "id": "NHNdjS-1OJf9",
        "outputId": "16a09210-3357-46d7-b4c1-8983fce3c5d5"
      },
      "source": [
        "fx = x**2-4\r\n",
        "gx = x-2\r\n",
        "plot( fx,gx, xlim=(-6,6), ylim=(-4,4))"
      ],
      "execution_count": null,
      "outputs": [
        {
          "output_type": "stream",
          "text": [
            "/usr/local/lib/python3.6/dist-packages/sympy/plotting/plot.py:890: MatplotlibDeprecationWarning: \n",
            "The set_smart_bounds function was deprecated in Matplotlib 3.2 and will be removed two minor releases later.\n",
            "  self.ax.spines['left'].set_smart_bounds(True)\n",
            "/usr/local/lib/python3.6/dist-packages/sympy/plotting/plot.py:891: MatplotlibDeprecationWarning: \n",
            "The set_smart_bounds function was deprecated in Matplotlib 3.2 and will be removed two minor releases later.\n",
            "  self.ax.spines['bottom'].set_smart_bounds(False)\n"
          ],
          "name": "stderr"
        },
        {
          "output_type": "display_data",
          "data": {
            "image/png": "[encoded data removed]",
            "text/plain": [
              "<Figure size 432x288 with 1 Axes>"
            ]
          },
          "metadata": {
            "tags": [],
            "needs_background": "light"
          }
        },
        {
          "output_type": "execute_result",
          "data": {
            "text/plain": [
              "<sympy.plotting.plot.Plot at 0x7f9a8645ff28>"
            ]
          },
          "metadata": {
            "tags": []
          },
          "execution_count": 39
        }
      ]
    },
    {
      "cell_type": "code",
      "metadata": {
        "colab": {
          "base_uri": "https://localhost:8080/",
          "height": 37
        },
        "id": "REBo1twsOdJG",
        "outputId": "32c373a1-0268-45e1-be64-5066cfa1cbe3"
      },
      "source": [
        "soln=solve( Eq(fx, gx), x)\r\n",
        "soln"
      ],
      "execution_count": null,
      "outputs": [
        {
          "output_type": "execute_result",
          "data": {
            "image/png": "[encoded data removed]",
            "text/latex": "$$\\left [ -1, \\quad 2\\right ]$$",
            "text/plain": [
              "[-1, 2]"
            ]
          },
          "metadata": {
            "tags": []
          },
          "execution_count": 43
        }
      ]
    },
    {
      "cell_type": "code",
      "metadata": {
        "colab": {
          "base_uri": "https://localhost:8080/",
          "height": 38
        },
        "id": "GRrvh6mgPcp_",
        "outputId": "6eaf5cc9-786e-4c1c-bdca-99501f1f6927"
      },
      "source": [
        "integrate( gx - fx, (x,soln[0],soln[1]))"
      ],
      "execution_count": null,
      "outputs": [
        {
          "output_type": "execute_result",
          "data": {
            "image/png": "[encoded data removed]",
            "text/latex": "$$\\frac{9}{2}$$",
            "text/plain": [
              "9/2"
            ]
          },
          "metadata": {
            "tags": []
          },
          "execution_count": 44
        }
      ]
    },
    {
      "cell_type": "code",
      "metadata": {
        "colab": {
          "base_uri": "https://localhost:8080/",
          "height": 172
        },
        "id": "LbQPv0FbIjFt",
        "outputId": "990aa09e-4a5e-4e70-b399-f0e16e8deaf6"
      },
      "source": [
        "Sx = pi*(r**2 - x**2)\r\n",
        "integrate( s, (x, -r, r))"
      ],
      "execution_count": null,
      "outputs": [
        {
          "output_type": "error",
          "ename": "NameError",
          "evalue": "ignored",
          "traceback": [
            "\u001b[0;31m---------------------------------------------------------------------------\u001b[0m",
            "\u001b[0;31mNameError\u001b[0m                                 Traceback (most recent call last)",
            "\u001b[0;32m<ipython-input-1-9b893d1db46b>\u001b[0m in \u001b[0;36m<module>\u001b[0;34m()\u001b[0m\n\u001b[0;32m----> 1\u001b[0;31m \u001b[0mintegrate\u001b[0m\u001b[0;34m(\u001b[0m \u001b[0ms\u001b[0m\u001b[0;34m,\u001b[0m \u001b[0;34m(\u001b[0m\u001b[0mx\u001b[0m\u001b[0;34m,\u001b[0m \u001b[0;34m-\u001b[0m\u001b[0mr\u001b[0m\u001b[0;34m,\u001b[0m \u001b[0mr\u001b[0m\u001b[0;34m)\u001b[0m\u001b[0;34m)\u001b[0m\u001b[0;34m\u001b[0m\u001b[0;34m\u001b[0m\u001b[0m\n\u001b[0m",
            "\u001b[0;31mNameError\u001b[0m: name 'integrate' is not defined"
          ]
        }
      ]
    },
    {
      "cell_type": "code",
      "metadata": {
        "colab": {
          "base_uri": "https://localhost:8080/"
        },
        "id": "TbhUhB5764yy",
        "outputId": "64ece699-9103-4569-8260-60c3d1c95cd4"
      },
      "source": [
        "%who"
      ],
      "execution_count": null,
      "outputs": [
        {
          "output_type": "stream",
          "text": [
            "Function\t Symbol\t division\t factorial\t init_printing\t init_session\t \n"
          ],
          "name": "stdout"
        }
      ]
    },
    {
      "cell_type": "code",
      "metadata": {
        "colab": {
          "base_uri": "https://localhost:8080/"
        },
        "id": "xx5MZer57Mly",
        "outputId": "613675ec-5932-4924-9e87-ca8ff44d19c5"
      },
      "source": [
        "%whos"
      ],
      "execution_count": null,
      "outputs": [
        {
          "output_type": "stream",
          "text": [
            "Variable        Type                 Data/Info\n",
            "----------------------------------------------\n",
            "Function        FunctionClass        Function\n",
            "Symbol          ManagedProperties    <class 'sympy.core.symbol.Symbol'>\n",
            "division        _Feature             _Feature((2, 2, 0, 'alpha<...> 0, 0, 'alpha', 0), 8192)\n",
            "factorial       function             <function factorial at 0x7efcf3c2f1e0>\n",
            "init_printing   function             <function init_printing at 0x7efcf3e9fd08>\n",
            "init_session    function             <function init_session at 0x7efcf3ea92f0>\n"
          ],
          "name": "stdout"
        }
      ]
    },
    {
      "cell_type": "code",
      "metadata": {
        "colab": {
          "base_uri": "https://localhost:8080/"
        },
        "id": "Em4Y0FGM7QDr",
        "outputId": "9cee0359-216d-482c-994e-e8a2ed0e1e86"
      },
      "source": [
        "%who_ls"
      ],
      "execution_count": null,
      "outputs": [
        {
          "output_type": "execute_result",
          "data": {
            "text/plain": [
              "['Function',\n",
              " 'Symbol',\n",
              " 'division',\n",
              " 'factorial',\n",
              " 'init_printing',\n",
              " 'init_session']"
            ]
          },
          "metadata": {
            "tags": []
          },
          "execution_count": 29
        }
      ]
    },
    {
      "cell_type": "code",
      "metadata": {
        "colab": {
          "base_uri": "https://localhost:8080/"
        },
        "id": "um5zJAuC7lgq",
        "outputId": "bebbb20d-d011-40d4-a275-376c3a07af8e"
      },
      "source": [
        "%reset"
      ],
      "execution_count": null,
      "outputs": [
        {
          "output_type": "stream",
          "text": [
            "Once deleted, variables cannot be recovered. Proceed (y/[n])? n\n",
            "Nothing done.\n"
          ],
          "name": "stdout"
        }
      ]
    }
  ]
}